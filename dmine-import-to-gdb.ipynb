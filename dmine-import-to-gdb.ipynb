{
 "cells": [
  {
   "cell_type": "code",
   "execution_count": 2,
   "metadata": {
    "collapsed": false
   },
   "outputs": [
    {
     "ename": "SyntaxError",
     "evalue": "invalid syntax (<ipython-input-2-42c75db6de9b>, line 24)",
     "output_type": "error",
     "traceback": [
      "\u001b[1;36m  File \u001b[1;32m\"<ipython-input-2-42c75db6de9b>\"\u001b[1;36m, line \u001b[1;32m24\u001b[0m\n\u001b[1;33m    fc out, sr)\u001b[0m\n\u001b[1;37m         ^\u001b[0m\n\u001b[1;31mSyntaxError\u001b[0m\u001b[1;31m:\u001b[0m invalid syntax\n"
     ]
    }
   ],
   "source": [
    "#-------------------------------------------------------------------------------\n",
    "# Name:        module1\n",
    "# Purpose:\n",
    "#\n",
    "# Author:      ston5499\n",
    "#\n",
    "# Created:     23/09/2016\n",
    "# Copyright:   (c) ston5499 2016\n",
    "# Licence:     <your licence>\n",
    "#-------------------------------------------------------------------------------\n",
    "\n",
    "def main():\n",
    "    pass\n",
    "\n",
    "if __name__ == '__main__':\n",
    "    main()\n",
    "\n",
    "#Initialize\n",
    "import arcpy\n",
    "import os\n",
    "from arcpy import env\n",
    "\n",
    "arcpy.env.overwriteOutput = True\n",
    "\n",
    "#Create file GDB\n",
    "arcpy.CreateFileGDB_management(\"C:/Temp\", \"sws_scratch.gdb\")\n",
    "\n",
    "#Set environments\n",
    "arcpy.env.workspace = (\"J:/Dropbox/REACCH GIS/REACCH_Test/\")\n",
    "arcpy.env.overwriteOutput = True\n",
    "\n",
    "#List all datasets in folder\n",
    "featureclasses = arcpy.ListFeatureClasses(wild_card=None, feature_type=None, feature_dataset=None)\n",
    "\n",
    "#Check success of finding shapefiles\n",
    "print(featureclasses)\n",
    "\n",
    "#Spatial Reference, setting what the new projection will be\n",
    "sr = arcpy.SpatialReference(\"J:/Dropbox/REACCH GIS/REACCH_Test/st.prj\")\n",
    "\n",
    "#Loop for projecting into GDB\n",
    "for fc in featureclasses:\n",
    "    outfc = os.path.join(\"J:/Dropbox/REACCH GIS/REACCH_Test2/\", fc)\n",
    "    arcpy.Project_management(\n",
    "        fc outfc, sr)\n",
    "#    outws = \"C:/Temp/sws_Homework_3/Scratch/sws_scratch.gdb/\"\n",
    "    arcpy.FeatureClassToGeodatabase_conversion(outfc, \"C:/Temp/sws_scratch.gdb/\")\n",
    "    print (\"Projected \" + outfc + \" successfully!\")\n",
    "\n",
    "#Compress Geodatabase\n",
    "arcpy.env.workspace = (\"C:/Temp\")\n",
    "compressGDB = (\"C:/Temp/sws_scratch.gdb/\")\n",
    "arcpy.CompressFileGeodatabaseData_management(compressGDB, \"Lossless compression\")\n",
    "\n",
    "#You did it!\n",
    "print(\"All done!\")"
   ]
  },
  {
   "cell_type": "code",
   "execution_count": null,
   "metadata": {
    "collapsed": true
   },
   "outputs": [],
   "source": [
    "#Loop for projecting into GDB\n",
    "for fc in featureclasses:\n",
    "#    outws = \"C:/Temp/sws_Homework_3/Scratch/sws_scratch.gdb/\"\n",
    "    outfc = os.path.join(\"C:/Temp/sws_Homework_3/Scratch/sws_scratch.gdb/\", fc)\n",
    "    arcpy.Project_management(\n",
    "        fc, outfc, sr)\n",
    "    print (\"Projected \" + outfc + \" successfully!\")"
   ]
  }
 ],
 "metadata": {
  "kernelspec": {
   "display_name": "Python 2",
   "language": "python",
   "name": "python2"
  },
  "language_info": {
   "codemirror_mode": {
    "name": "ipython",
    "version": 2
   },
   "file_extension": ".py",
   "mimetype": "text/x-python",
   "name": "python",
   "nbconvert_exporter": "python",
   "pygments_lexer": "ipython2",
   "version": "2.7.10"
  }
 },
 "nbformat": 4,
 "nbformat_minor": 0
}
