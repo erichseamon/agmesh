{
 "cells": [
  {
   "cell_type": "code",
   "execution_count": 1,
   "metadata": {
    "collapsed": true
   },
   "outputs": [],
   "source": [
    "def print_leap_years(year, secondyear):\n",
    "    a = iter(range(year, secondyear))\n",
    "    for count, i in enumerate(a):\n",
    "        if i % 4 == 0 and (i % 100 != 0 or i % 400 == 0):\n",
    "            print(\"{} is a leap year\".format(i))\n",
    "            print 'total leap years so far are:', count /4"
   ]
  },
  {
   "cell_type": "code",
   "execution_count": 2,
   "metadata": {
    "collapsed": false
   },
   "outputs": [
    {
     "name": "stdout",
     "output_type": "stream",
     "text": [
      "Type first year: 2000\n",
      "Type second year: 2010\n",
      "2000 is a leap year\n",
      "total leap years so far are: 0\n",
      "2004 is a leap year\n",
      "total leap years so far are: 1\n",
      "2008 is a leap year\n",
      "total leap years so far are: 2\n"
     ]
    }
   ],
   "source": [
    "year = int(input(\"Type first year: \")) \n",
    "secondyear = int(input(\"Type second year: \"))\n",
    "print_leap_years(year, secondyear)"
   ]
  },
  {
   "cell_type": "code",
   "execution_count": null,
   "metadata": {
    "collapsed": true
   },
   "outputs": [],
   "source": []
  }
 ],
 "metadata": {
  "kernelspec": {
   "display_name": "Python 2",
   "language": "python",
   "name": "python2"
  },
  "language_info": {
   "codemirror_mode": {
    "name": "ipython",
    "version": 2
   },
   "file_extension": ".py",
   "mimetype": "text/x-python",
   "name": "python",
   "nbconvert_exporter": "python",
   "pygments_lexer": "ipython2",
   "version": "2.7.10"
  }
 },
 "nbformat": 4,
 "nbformat_minor": 0
}
